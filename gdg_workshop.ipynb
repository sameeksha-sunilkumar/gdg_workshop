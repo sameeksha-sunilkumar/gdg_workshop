{
  "nbformat": 4,
  "nbformat_minor": 0,
  "metadata": {
    "colab": {
      "provenance": [],
      "authorship_tag": "ABX9TyNKI8e/WirrGHUW8X6UB6lt"
    },
    "kernelspec": {
      "name": "python3",
      "display_name": "Python 3"
    },
    "language_info": {
      "name": "python"
    }
  },
  "cells": [
    {
      "cell_type": "code",
      "execution_count": 14,
      "metadata": {
        "id": "8diFoDs8Ip9W"
      },
      "outputs": [],
      "source": [
        "import pandas as pd\n",
        "import numpy as np\n",
        "import re\n",
        "import nltk\n",
        "from nltk.corpus import stopwords\n",
        "from sklearn.feature_extraction.text import TfidfVectorizer\n",
        "from sklearn.model_selection import train_test_split\n",
        "from sklearn.naive_bayes import MultinomialNB\n",
        "from sklearn.metrics import accuracy_score, classification_report\n",
        "import emoji"
      ]
    },
    {
      "cell_type": "code",
      "source": [
        "data = {\n",
        "    'text': [\n",
        "        \"I am so happy today!\", \"I am feeling sad\", \"This is amazing!\",\n",
        "        \"I hate everything!\", \"I am excited for the trip!\", \"I am crying\",\n",
        "        \"I am so angry right now!\", \"I love this!\", \"This is frustrating!\",\n",
        "        \"I am feeling joyful!\"\n",
        "    ],\n",
        "    'emotion': [\n",
        "        \"happy\", \"sad\", \"happy\", \"angry\", \"happy\", \"sad\",\n",
        "        \"angry\", \"happy\", \"angry\", \"happy\"\n",
        "    ]\n",
        "}\n",
        "\n",
        "df = pd.DataFrame(data)\n",
        "print(df.head())"
      ],
      "metadata": {
        "colab": {
          "base_uri": "https://localhost:8080/"
        },
        "id": "N-aHef7BIvmu",
        "outputId": "e88c6b5d-6cf7-40b4-ce44-c0a17c82fc83"
      },
      "execution_count": 15,
      "outputs": [
        {
          "output_type": "stream",
          "name": "stdout",
          "text": [
            "                         text emotion\n",
            "0        I am so happy today!   happy\n",
            "1            I am feeling sad     sad\n",
            "2            This is amazing!   happy\n",
            "3          I hate everything!   angry\n",
            "4  I am excited for the trip!   happy\n"
          ]
        }
      ]
    },
    {
      "cell_type": "code",
      "source": [
        "emoji_dict = {\n",
        "    \"happy\": \"😊\",\n",
        "    \"sad\": \"😢\",\n",
        "    \"angry\": \"😡\"\n",
        "}\n",
        "\n",
        "df['emoji'] = df['emotion'].map(emoji_dict)\n",
        "print(df[['text', 'emoji']])"
      ],
      "metadata": {
        "colab": {
          "base_uri": "https://localhost:8080/"
        },
        "id": "5Gl3TtjmI0nT",
        "outputId": "5f4267fa-2af3-474d-bac3-25644cb724ea"
      },
      "execution_count": 16,
      "outputs": [
        {
          "output_type": "stream",
          "name": "stdout",
          "text": [
            "                         text emoji\n",
            "0        I am so happy today!     😊\n",
            "1            I am feeling sad     😢\n",
            "2            This is amazing!     😊\n",
            "3          I hate everything!     😡\n",
            "4  I am excited for the trip!     😊\n",
            "5                 I am crying     😢\n",
            "6    I am so angry right now!     😡\n",
            "7                I love this!     😊\n",
            "8        This is frustrating!     😡\n",
            "9        I am feeling joyful!     😊\n"
          ]
        }
      ]
    },
    {
      "cell_type": "code",
      "source": [
        "nltk.download('stopwords')\n",
        "stop_words = set(stopwords.words(\"english\"))\n",
        "\n",
        "def clean_text(text):\n",
        "    text = re.sub(r\"http\\S+|www\\S+|https\\S+\", '', text, flags=re.MULTILINE)\n",
        "    text = re.sub(r'\\@w+|\\#', '', text)\n",
        "    text = re.sub(r'[^\\w\\s]', '', text)\n",
        "    text = text.lower()\n",
        "    text = ' '.join([word for word in text.split() if word not in stop_words])\n",
        "    return text\n",
        "\n",
        "df['clean_text'] = df['text'].apply(clean_text)\n",
        "print(df[['text', 'clean_text']])"
      ],
      "metadata": {
        "colab": {
          "base_uri": "https://localhost:8080/"
        },
        "id": "Vt3e-RkpI8Pf",
        "outputId": "f3a44c16-6653-4077-be6d-23d68d54482a"
      },
      "execution_count": 17,
      "outputs": [
        {
          "output_type": "stream",
          "name": "stdout",
          "text": [
            "                         text       clean_text\n",
            "0        I am so happy today!      happy today\n",
            "1            I am feeling sad      feeling sad\n",
            "2            This is amazing!          amazing\n",
            "3          I hate everything!  hate everything\n",
            "4  I am excited for the trip!     excited trip\n",
            "5                 I am crying           crying\n",
            "6    I am so angry right now!      angry right\n",
            "7                I love this!             love\n",
            "8        This is frustrating!      frustrating\n",
            "9        I am feeling joyful!   feeling joyful\n"
          ]
        },
        {
          "output_type": "stream",
          "name": "stderr",
          "text": [
            "[nltk_data] Downloading package stopwords to /root/nltk_data...\n",
            "[nltk_data]   Package stopwords is already up-to-date!\n"
          ]
        }
      ]
    },
    {
      "cell_type": "code",
      "source": [
        "vectorizer = TfidfVectorizer(max_features=500)\n",
        "X = vectorizer.fit_transform(df['clean_text']).toarray()\n",
        "y = df['emotion']"
      ],
      "metadata": {
        "id": "KkjBDFERJM6c"
      },
      "execution_count": 18,
      "outputs": []
    },
    {
      "cell_type": "code",
      "source": [
        "X_train, X_test, y_train, y_test = train_test_split(X, y, test_size=0.2, random_state=42)"
      ],
      "metadata": {
        "id": "4Vl1h1cnJS6H"
      },
      "execution_count": 19,
      "outputs": []
    },
    {
      "cell_type": "code",
      "source": [
        "nb_model = MultinomialNB()\n",
        "nb_model.fit(X_train, y_train)\n",
        "nb_predictions = nb_model.predict(X_test)"
      ],
      "metadata": {
        "id": "jl5-QWXaJVTH"
      },
      "execution_count": 20,
      "outputs": []
    },
    {
      "cell_type": "code",
      "source": [
        "print(\"Naïve Bayes Accuracy:\", accuracy_score(y_test, nb_predictions))\n",
        "print(classification_report(y_test, nb_predictions))"
      ],
      "metadata": {
        "colab": {
          "base_uri": "https://localhost:8080/"
        },
        "id": "H1nq6uJlJcub",
        "outputId": "d238323e-7bdd-4cde-b226-8f2d1d435ca6"
      },
      "execution_count": 21,
      "outputs": [
        {
          "output_type": "stream",
          "name": "stdout",
          "text": [
            "Naïve Bayes Accuracy: 0.0\n",
            "              precision    recall  f1-score   support\n",
            "\n",
            "       angry       0.00      0.00      0.00       1.0\n",
            "       happy       0.00      0.00      0.00       0.0\n",
            "         sad       0.00      0.00      0.00       1.0\n",
            "\n",
            "    accuracy                           0.00       2.0\n",
            "   macro avg       0.00      0.00      0.00       2.0\n",
            "weighted avg       0.00      0.00      0.00       2.0\n",
            "\n"
          ]
        },
        {
          "output_type": "stream",
          "name": "stderr",
          "text": [
            "/usr/local/lib/python3.11/dist-packages/sklearn/metrics/_classification.py:1565: UndefinedMetricWarning: Precision is ill-defined and being set to 0.0 in labels with no predicted samples. Use `zero_division` parameter to control this behavior.\n",
            "  _warn_prf(average, modifier, f\"{metric.capitalize()} is\", len(result))\n",
            "/usr/local/lib/python3.11/dist-packages/sklearn/metrics/_classification.py:1565: UndefinedMetricWarning: Recall is ill-defined and being set to 0.0 in labels with no true samples. Use `zero_division` parameter to control this behavior.\n",
            "  _warn_prf(average, modifier, f\"{metric.capitalize()} is\", len(result))\n",
            "/usr/local/lib/python3.11/dist-packages/sklearn/metrics/_classification.py:1565: UndefinedMetricWarning: Precision is ill-defined and being set to 0.0 in labels with no predicted samples. Use `zero_division` parameter to control this behavior.\n",
            "  _warn_prf(average, modifier, f\"{metric.capitalize()} is\", len(result))\n",
            "/usr/local/lib/python3.11/dist-packages/sklearn/metrics/_classification.py:1565: UndefinedMetricWarning: Recall is ill-defined and being set to 0.0 in labels with no true samples. Use `zero_division` parameter to control this behavior.\n",
            "  _warn_prf(average, modifier, f\"{metric.capitalize()} is\", len(result))\n",
            "/usr/local/lib/python3.11/dist-packages/sklearn/metrics/_classification.py:1565: UndefinedMetricWarning: Precision is ill-defined and being set to 0.0 in labels with no predicted samples. Use `zero_division` parameter to control this behavior.\n",
            "  _warn_prf(average, modifier, f\"{metric.capitalize()} is\", len(result))\n",
            "/usr/local/lib/python3.11/dist-packages/sklearn/metrics/_classification.py:1565: UndefinedMetricWarning: Recall is ill-defined and being set to 0.0 in labels with no true samples. Use `zero_division` parameter to control this behavior.\n",
            "  _warn_prf(average, modifier, f\"{metric.capitalize()} is\", len(result))\n"
          ]
        }
      ]
    },
    {
      "cell_type": "code",
      "source": [
        "def predict_emoji(text):\n",
        "    text = clean_text(text)\n",
        "    text_vector = vectorizer.transform([text]).toarray()\n",
        "    prediction = nb_model.predict(text_vector)[0]\n",
        "    return emoji_dict[prediction]\n",
        "\n",
        "user_text = input(\"Enter a message: \")\n",
        "print(\"Predicted Emoji:\", predict_emoji(user_text))"
      ],
      "metadata": {
        "colab": {
          "base_uri": "https://localhost:8080/"
        },
        "id": "vF4nnq7VJfGT",
        "outputId": "0c154c1f-07db-4ddd-893f-dd6d3e0eee8b"
      },
      "execution_count": 22,
      "outputs": [
        {
          "output_type": "stream",
          "name": "stdout",
          "text": [
            "Enter a message: I am happy today\n",
            "Predicted Emoji: 😊\n"
          ]
        }
      ]
    },
    {
      "cell_type": "code",
      "source": [],
      "metadata": {
        "id": "EgZ4dN7kJ_vb"
      },
      "execution_count": null,
      "outputs": []
    }
  ]
}